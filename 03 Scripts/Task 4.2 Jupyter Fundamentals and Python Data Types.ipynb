{
 "cells": [
  {
   "cell_type": "markdown",
   "id": "0e2aa59d",
   "metadata": {},
   "source": [
    "#01.Importing Libraries"
   ]
  },
  {
   "cell_type": "code",
   "execution_count": 1,
   "id": "dd52b3b2",
   "metadata": {},
   "outputs": [],
   "source": [
    "# Import libraries\n",
    "import pandas as pd\n",
    "import numpy as np\n",
    "import os"
   ]
  },
  {
   "cell_type": "markdown",
   "id": "9ae73abd",
   "metadata": {},
   "source": [
    "#02.Python Data Types"
   ]
  },
  {
   "cell_type": "code",
   "execution_count": 2,
   "id": "d3210965",
   "metadata": {},
   "outputs": [],
   "source": [
    "x = 30"
   ]
  },
  {
   "cell_type": "code",
   "execution_count": 3,
   "id": "3d560325",
   "metadata": {},
   "outputs": [],
   "source": [
    "y = 70"
   ]
  },
  {
   "cell_type": "code",
   "execution_count": 4,
   "id": "b6bf919b",
   "metadata": {},
   "outputs": [
    {
     "data": {
      "text/plain": [
       "100"
      ]
     },
     "execution_count": 4,
     "metadata": {},
     "output_type": "execute_result"
    }
   ],
   "source": [
    "x + y"
   ]
  },
  {
   "cell_type": "code",
   "execution_count": 5,
   "id": "cb9bdfc4",
   "metadata": {},
   "outputs": [
    {
     "data": {
      "text/plain": [
       "100"
      ]
     },
     "execution_count": 5,
     "metadata": {},
     "output_type": "execute_result"
    }
   ],
   "source": [
    "y + y - 40"
   ]
  },
  {
   "cell_type": "code",
   "execution_count": 6,
   "id": "093aff2c",
   "metadata": {},
   "outputs": [],
   "source": [
    "z = 40"
   ]
  },
  {
   "cell_type": "code",
   "execution_count": 7,
   "id": "78bda9c1",
   "metadata": {},
   "outputs": [
    {
     "data": {
      "text/plain": [
       "100"
      ]
     },
     "execution_count": 7,
     "metadata": {},
     "output_type": "execute_result"
    }
   ],
   "source": [
    "x + x + z"
   ]
  },
  {
   "cell_type": "code",
   "execution_count": 8,
   "id": "89cfe3e7",
   "metadata": {},
   "outputs": [
    {
     "data": {
      "text/plain": [
       "100"
      ]
     },
     "execution_count": 8,
     "metadata": {},
     "output_type": "execute_result"
    }
   ],
   "source": [
    "y + z - 10"
   ]
  },
  {
   "cell_type": "code",
   "execution_count": 9,
   "id": "c0640ed1",
   "metadata": {},
   "outputs": [],
   "source": [
    "a = 3.1416"
   ]
  },
  {
   "cell_type": "code",
   "execution_count": 10,
   "id": "30d2cad8",
   "metadata": {},
   "outputs": [],
   "source": [
    "b = 0.33"
   ]
  },
  {
   "cell_type": "code",
   "execution_count": 11,
   "id": "372cd966",
   "metadata": {},
   "outputs": [
    {
     "data": {
      "text/plain": [
       "9.52"
      ]
     },
     "execution_count": 11,
     "metadata": {},
     "output_type": "execute_result"
    }
   ],
   "source": [
    "a / b"
   ]
  },
  {
   "cell_type": "code",
   "execution_count": 12,
   "id": "1bb5bbd6",
   "metadata": {},
   "outputs": [],
   "source": [
    "c = 'sea'"
   ]
  },
  {
   "cell_type": "code",
   "execution_count": 29,
   "id": "ea19ddb7",
   "metadata": {},
   "outputs": [],
   "source": [
    "d = 'hawks '"
   ]
  },
  {
   "cell_type": "code",
   "execution_count": 14,
   "id": "f157ad6c",
   "metadata": {},
   "outputs": [
    {
     "data": {
      "text/plain": [
       "'seahawks'"
      ]
     },
     "execution_count": 14,
     "metadata": {},
     "output_type": "execute_result"
    }
   ],
   "source": [
    "c + d"
   ]
  },
  {
   "cell_type": "code",
   "execution_count": 17,
   "id": "d474bc96",
   "metadata": {},
   "outputs": [],
   "source": [
    "e = \"Let's \""
   ]
  },
  {
   "cell_type": "code",
   "execution_count": 18,
   "id": "e5896a9e",
   "metadata": {},
   "outputs": [],
   "source": [
    "f = 'go '"
   ]
  },
  {
   "cell_type": "code",
   "execution_count": 19,
   "id": "68828679",
   "metadata": {},
   "outputs": [
    {
     "data": {
      "text/plain": [
       "\"Let's go seahawks\""
      ]
     },
     "execution_count": 19,
     "metadata": {},
     "output_type": "execute_result"
    }
   ],
   "source": [
    "e + f + c + d"
   ]
  },
  {
   "cell_type": "code",
   "execution_count": 20,
   "id": "c94f453d",
   "metadata": {},
   "outputs": [],
   "source": [
    "g = 'the '"
   ]
  },
  {
   "cell_type": "code",
   "execution_count": 22,
   "id": "950fc00f",
   "metadata": {},
   "outputs": [],
   "source": [
    "h = 'beat '"
   ]
  },
  {
   "cell_type": "code",
   "execution_count": 27,
   "id": "70c0d90d",
   "metadata": {},
   "outputs": [],
   "source": [
    "i = 'Denver '"
   ]
  },
  {
   "cell_type": "code",
   "execution_count": 24,
   "id": "30a172e3",
   "metadata": {},
   "outputs": [],
   "source": [
    "j = 'Broncos '"
   ]
  },
  {
   "cell_type": "code",
   "execution_count": 26,
   "id": "64aa348d",
   "metadata": {},
   "outputs": [],
   "source": [
    "k = 'again!'"
   ]
  },
  {
   "cell_type": "code",
   "execution_count": 30,
   "id": "20af48fb",
   "metadata": {},
   "outputs": [
    {
     "data": {
      "text/plain": [
       "'seahawks beat the Denver Broncos again!'"
      ]
     },
     "execution_count": 30,
     "metadata": {},
     "output_type": "execute_result"
    }
   ],
   "source": [
    "c + d + h + g + i + j + k"
   ]
  },
  {
   "cell_type": "code",
   "execution_count": 31,
   "id": "db5490a0",
   "metadata": {},
   "outputs": [
    {
     "data": {
      "text/plain": [
       "'hawks hawks hawks hawks hawks hawks hawks hawks hawks hawks hawks hawks hawks hawks hawks hawks hawks hawks hawks hawks hawks hawks hawks hawks hawks hawks hawks hawks hawks hawks hawks hawks hawks hawks hawks hawks hawks hawks hawks hawks hawks hawks hawks hawks hawks hawks hawks hawks hawks hawks hawks hawks hawks hawks hawks hawks hawks hawks hawks hawks hawks hawks hawks hawks hawks hawks hawks hawks hawks hawks hawks hawks hawks hawks hawks hawks hawks hawks hawks hawks hawks hawks hawks hawks hawks hawks hawks hawks hawks hawks hawks hawks hawks hawks hawks hawks hawks hawks hawks hawks '"
      ]
     },
     "execution_count": 31,
     "metadata": {},
     "output_type": "execute_result"
    }
   ],
   "source": [
    "d * 100"
   ]
  },
  {
   "cell_type": "code",
   "execution_count": null,
   "id": "b765b5a4",
   "metadata": {},
   "outputs": [],
   "source": []
  }
 ],
 "metadata": {
  "kernelspec": {
   "display_name": "Python 3 (ipykernel)",
   "language": "python",
   "name": "python3"
  },
  "language_info": {
   "codemirror_mode": {
    "name": "ipython",
    "version": 3
   },
   "file_extension": ".py",
   "mimetype": "text/x-python",
   "name": "python",
   "nbconvert_exporter": "python",
   "pygments_lexer": "ipython3",
   "version": "3.10.9"
  }
 },
 "nbformat": 4,
 "nbformat_minor": 5
}
